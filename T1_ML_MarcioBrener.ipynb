{
 "cells": [
  {
   "cell_type": "markdown",
   "id": "01087f26",
   "metadata": {},
   "source": [
    "# Parte A"
   ]
  },
  {
   "cell_type": "code",
   "execution_count": 2,
   "id": "407bccbc",
   "metadata": {},
   "outputs": [],
   "source": [
    "import cv2\n",
    "import numpy as np\n",
    "import os"
   ]
  },
  {
   "cell_type": "code",
   "execution_count": 3,
   "id": "4aec06cf",
   "metadata": {},
   "outputs": [
    {
     "name": "stdout",
     "output_type": "stream",
     "text": [
      "Filtro 1 ativado.\n",
      "Filtro 2 ativado.\n",
      "Filtro 3 ativado.\n",
      "Filtro 4 ativado.\n",
      "Filtro 5 ativado.\n",
      "Filtro 6 ativado.\n",
      "Filtro 7 ativado.\n",
      "Filtro desativado, vídeo original exibido.\n"
     ]
    }
   ],
   "source": [
    "kernels = {\n",
    "    49: np.array([[-1, -1, -1], [-1, 9, -1], [-1, -1, -1]]),  # Tecla '1'\n",
    "    50: np.array([[1, 0, 0], [0, 0, 0], [0, 0, -1]]),        # Tecla '2'\n",
    "    51: np.array([[0, 0, 0], [0, 1, 0], [0, 0, 0]]),        # Tecla '3'\n",
    "    52: np.array([[0, -1, 0], [-1, 5, -1], [0, -1, 0]]),    # Tecla '4'\n",
    "    53: np.array([[0, 1, 0], [1, -4, 1], [0, 1, 0]]),        # Tecla '5'\n",
    "    54: np.array([[1, 0, -1], [0, 0, 0], [-1, 0, 1]]),        # Tecla '6'\n",
    "    55: np.array([[-1, 0, 1], [-2, 0, 2], [-1, 0, 1]])       # Tecla '7'\n",
    "}\n",
    "\n",
    "\n",
    "def aplicar_filtro(imagem, kernel):\n",
    "    return cv2.filter2D(imagem, -1, kernel)\n",
    "\n",
    "\n",
    "def processar_webcam(pasta_saida):\n",
    "    os.makedirs(pasta_saida, exist_ok=True) \n",
    "    cap = cv2.VideoCapture(0) \n",
    "    filtro_ativo = None  \n",
    "    contador_frames = 0\n",
    "\n",
    "    while True:\n",
    "        ret, frame = cap.read()\n",
    "        if not ret:\n",
    "            print(\"Erro ao acessar a webcam.\")\n",
    "            break\n",
    "\n",
    "        \n",
    "        if filtro_ativo is not None:\n",
    "            frame_filtrado = aplicar_filtro(frame, filtro_ativo)\n",
    "            cv2.imshow(\"Webcam\", frame_filtrado)\n",
    "\n",
    "            nome_arquivo = f\"{pasta_saida}/frame_filtrado_{contador_frames:04d}.png\"\n",
    "            cv2.imwrite(nome_arquivo, frame_filtrado)\n",
    "            contador_frames += 1\n",
    "        else:\n",
    "            cv2.imshow(\"Webcam\", frame)  \n",
    "\n",
    "       \n",
    "        key = cv2.waitKey(1) & 0xFF\n",
    "\n",
    "        # Ativar filtros com as teclas '1' a '7'\n",
    "        if key in kernels:\n",
    "            filtro_ativo = kernels[key]\n",
    "            print(f\"Filtro {chr(key)} ativado.\")\n",
    "\n",
    "       \n",
    "        elif key == ord(\"r\"):\n",
    "            filtro_ativo = None\n",
    "            print(\"Filtro desativado, vídeo original exibido.\")\n",
    "\n",
    "        \n",
    "        elif key == ord(\"q\"):\n",
    "            break\n",
    "\n",
    "    cap.release()\n",
    "    cv2.destroyAllWindows()\n",
    "\n",
    "processar_webcam(\"frames_webcam\")"
   ]
  },
  {
   "cell_type": "markdown",
   "id": "48d167ed",
   "metadata": {},
   "source": [
    "# Parte B"
   ]
  },
  {
   "cell_type": "code",
   "execution_count": 5,
   "id": "6fed7318",
   "metadata": {},
   "outputs": [],
   "source": [
    "\n",
    "def redimensionar_frame(imagem, escala, interpolacao):\n",
    "    largura = int(imagem.shape[1] * escala / 100)\n",
    "    altura = int(imagem.shape[0] * escala / 100)\n",
    "    return cv2.resize(imagem, (largura, altura), interpolation=interpolacao)\n",
    "\n",
    "\n",
    "interpolacoes = {\n",
    "    \"N\": cv2.INTER_NEAREST,\n",
    "    \"L\": cv2.INTER_LINEAR,\n",
    "    \"A\": cv2.INTER_AREA,\n",
    "    \"C\": cv2.INTER_CUBIC,\n",
    "    \"Z\": cv2.INTER_LANCZOS4\n",
    "}\n",
    "\n",
    "def redimensionar_com_controles(diretorio_saida=\"frames_redimensionados\"):\n",
    "    os.makedirs(diretorio_saida, exist_ok=True)\n",
    "    captura = cv2.VideoCapture(0)\n",
    "    escala = 10\n",
    "    interpolacao = cv2.INTER_NEAREST\n",
    "    while True:\n",
    "        ret, frame = captura.read()\n",
    "        if not ret:\n",
    "            break\n",
    "        frame_redimensionado = redimensionar_frame(frame, escala, interpolacao)\n",
    "        cv2.imshow(\"Redimensionado\", frame_redimensionado)\n",
    "        tecla = cv2.waitKey(1) & 0xFF\n",
    "        if tecla == ord(\"+\") and escala < 50:\n",
    "            escala += 10\n",
    "        elif tecla == ord(\"-\") and escala > 10:\n",
    "            escala -= 10\n",
    "        elif chr(tecla).upper() in interpolacoes:\n",
    "            interpolacao = interpolacoes[chr(tecla).upper()]\n",
    "        elif tecla == ord(\"q\"):\n",
    "            break\n",
    "        cv2.imwrite(f\"{diretorio_saida}/frame_{escala}_{chr(tecla)}.png\", frame_redimensionado)\n",
    "    captura.release()\n",
    "    cv2.destroyAllWindows()\n",
    "\n",
    "\n",
    "redimensionar_com_controles()\n"
   ]
  },
  {
   "cell_type": "markdown",
   "id": "c3b311b5",
   "metadata": {},
   "source": [
    "# Parte C"
   ]
  },
  {
   "cell_type": "code",
   "execution_count": null,
   "id": "c4d2c880",
   "metadata": {},
   "outputs": [],
   "source": [
    "def detectar_pecas_faltando(imagem1, imagem2, pasta_saida=\"Deteccao-de-Objetos\"):\n",
    "    os.makedirs(pasta_saida, exist_ok=True)\n",
    "\n",
    "   \n",
    "    img1 = cv2.imread(imagem1)\n",
    "    img2 = cv2.imread(imagem2)\n",
    "\n",
    "   \n",
    "    if img1 is None:\n",
    "        print(f\"Erro ao carregar a imagem: {imagem1}\")\n",
    "        return\n",
    "    if img2 is None:\n",
    "        print(f\"Erro ao carregar a imagem: {imagem2}\")\n",
    "        return\n",
    "\n",
    "    \n",
    "    diferenca = cv2.absdiff(img1, img2)\n",
    "\n",
    "    \n",
    "    cv2.imshow(\"Diferenças\", diferenca)\n",
    "    cv2.imwrite(f\"{pasta_saida}/pecas_faltando.png\", diferenca)\n",
    "    cv2.waitKey(0)\n",
    "    cv2.destroyAllWindows()\n",
    "\n",
    "img1 = \"/MachineLearning/imagens/img1.png\"\n",
    "img2 = \"/MachineLearning/imagens/img2.png\"\n",
    "\n",
    "detectar_pecas_faltando(img1,img2)\n"
   ]
  }
 ],
 "metadata": {
  "kernelspec": {
   "display_name": "Python 3 (ipykernel)",
   "language": "python",
   "name": "python3"
  },
  "language_info": {
   "codemirror_mode": {
    "name": "ipython",
    "version": 3
   },
   "file_extension": ".py",
   "mimetype": "text/x-python",
   "name": "python",
   "nbconvert_exporter": "python",
   "pygments_lexer": "ipython3",
   "version": "3.10.12"
  }
 },
 "nbformat": 4,
 "nbformat_minor": 5
}
