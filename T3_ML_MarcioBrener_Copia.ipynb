{
 "cells": [
  {
   "cell_type": "code",
   "execution_count": 197,
   "id": "8cdd110a",
   "metadata": {},
   "outputs": [],
   "source": [
    "path = '/home/marciobrener/Documentos/MachineLearning/arquivos_csv/'"
   ]
  },
  {
   "cell_type": "code",
   "execution_count": 198,
   "id": "639d7d78-f242-4f1b-bc3a-c0af9fd9b8d8",
   "metadata": {},
   "outputs": [],
   "source": [
    "path_candatos = '/home/marciobrener/Documentos/MachineLearning/arquivos_csv/consulta_cand_2022/'"
   ]
  },
  {
   "cell_type": "code",
   "execution_count": 199,
   "id": "09ec203c",
   "metadata": {},
   "outputs": [],
   "source": [
    "import numpy as np\n",
    "import pandas as pd"
   ]
  },
  {
   "cell_type": "code",
   "execution_count": 200,
   "id": "d1f42341",
   "metadata": {},
   "outputs": [],
   "source": [
    "import seaborn as sns\n",
    "import matplotlib.pyplot as plt"
   ]
  },
  {
   "cell_type": "code",
   "execution_count": 201,
   "id": "68797bce",
   "metadata": {},
   "outputs": [],
   "source": [
    "from sklearn import tree\n",
    "from sklearn.model_selection import train_test_split\n",
    "from sklearn.preprocessing import LabelEncoder"
   ]
  },
  {
   "cell_type": "code",
   "execution_count": 202,
   "id": "749b8a20",
   "metadata": {},
   "outputs": [],
   "source": [
    "from sklearn.tree import DecisionTreeRegressor\n",
    "from sklearn.ensemble import RandomForestRegressor\n",
    "from sklearn.linear_model import LinearRegression\n",
    "from sklearn.metrics import mean_squared_error, r2_score"
   ]
  },
  {
   "cell_type": "markdown",
   "id": "9429064e",
   "metadata": {},
   "source": [
    "# Regressão"
   ]
  },
  {
   "cell_type": "code",
   "execution_count": 203,
   "id": "e784e6c9",
   "metadata": {},
   "outputs": [],
   "source": [
    "df_estoque_DPF = pd.read_csv(path + 'EstoqueDPF.csv',sep=';')"
   ]
  },
  {
   "cell_type": "code",
   "execution_count": 204,
   "id": "7963baca",
   "metadata": {},
   "outputs": [
    {
     "name": "stdout",
     "output_type": "stream",
     "text": [
      "<class 'pandas.core.frame.DataFrame'>\n",
      "RangeIndex: 149980 entries, 0 to 149979\n",
      "Data columns (total 7 columns):\n",
      " #   Column                         Non-Null Count   Dtype \n",
      "---  ------                         --------------   ----- \n",
      " 0   Titulo/Contrato                149980 non-null  object\n",
      " 1   Vencimento do Titulo/Contrato  149980 non-null  object\n",
      " 2   Valor do Estoque               149980 non-null  object\n",
      " 3   Quantidade do Estoque          149980 non-null  object\n",
      " 4   Mes do Estoque                 149980 non-null  object\n",
      " 5   Classe da Carteira             149980 non-null  object\n",
      " 6   Tipo de Divida                 149980 non-null  object\n",
      "dtypes: object(7)\n",
      "memory usage: 8.0+ MB\n"
     ]
    }
   ],
   "source": [
    "df_estoque_DPF.info()"
   ]
  },
  {
   "cell_type": "code",
   "execution_count": 205,
   "id": "c8713998",
   "metadata": {},
   "outputs": [
    {
     "data": {
      "text/html": [
       "<div>\n",
       "<style scoped>\n",
       "    .dataframe tbody tr th:only-of-type {\n",
       "        vertical-align: middle;\n",
       "    }\n",
       "\n",
       "    .dataframe tbody tr th {\n",
       "        vertical-align: top;\n",
       "    }\n",
       "\n",
       "    .dataframe thead th {\n",
       "        text-align: right;\n",
       "    }\n",
       "</style>\n",
       "<table border=\"1\" class=\"dataframe\">\n",
       "  <thead>\n",
       "    <tr style=\"text-align: right;\">\n",
       "      <th></th>\n",
       "      <th>Titulo/Contrato</th>\n",
       "      <th>Vencimento do Titulo/Contrato</th>\n",
       "      <th>Valor do Estoque</th>\n",
       "      <th>Quantidade do Estoque</th>\n",
       "      <th>Mes do Estoque</th>\n",
       "      <th>Classe da Carteira</th>\n",
       "      <th>Tipo de Divida</th>\n",
       "    </tr>\n",
       "  </thead>\n",
       "  <tbody>\n",
       "    <tr>\n",
       "      <th>0</th>\n",
       "      <td>TDAE120255</td>\n",
       "      <td>01/02/2024</td>\n",
       "      <td>1079854,80</td>\n",
       "      <td>10680,00</td>\n",
       "      <td>06/2018</td>\n",
       "      <td>Mercado</td>\n",
       "      <td>Dívida Interna</td>\n",
       "    </tr>\n",
       "    <tr>\n",
       "      <th>1</th>\n",
       "      <td>TDAE120438</td>\n",
       "      <td>01/04/2022</td>\n",
       "      <td>48253,02</td>\n",
       "      <td>482,00</td>\n",
       "      <td>06/2018</td>\n",
       "      <td>Mercado</td>\n",
       "      <td>Dívida Interna</td>\n",
       "    </tr>\n",
       "    <tr>\n",
       "      <th>2</th>\n",
       "      <td>TDAE980878</td>\n",
       "      <td>01/08/2018</td>\n",
       "      <td>170144,00</td>\n",
       "      <td>1636,00</td>\n",
       "      <td>06/2018</td>\n",
       "      <td>Mercado</td>\n",
       "      <td>Dívida Interna</td>\n",
       "    </tr>\n",
       "    <tr>\n",
       "      <th>3</th>\n",
       "      <td>TDA24090300</td>\n",
       "      <td>01/09/2024</td>\n",
       "      <td>17089,28</td>\n",
       "      <td>169,00</td>\n",
       "      <td>06/2018</td>\n",
       "      <td>Mercado</td>\n",
       "      <td>Dívida Interna</td>\n",
       "    </tr>\n",
       "    <tr>\n",
       "      <th>4</th>\n",
       "      <td>LFT 010323</td>\n",
       "      <td>01/03/2023</td>\n",
       "      <td>134257731913,73</td>\n",
       "      <td>14044631,71</td>\n",
       "      <td>06/2018</td>\n",
       "      <td>Mercado</td>\n",
       "      <td>Dívida Interna</td>\n",
       "    </tr>\n",
       "  </tbody>\n",
       "</table>\n",
       "</div>"
      ],
      "text/plain": [
       "  Titulo/Contrato Vencimento do Titulo/Contrato Valor do Estoque  \\\n",
       "0      TDAE120255                    01/02/2024       1079854,80   \n",
       "1      TDAE120438                    01/04/2022         48253,02   \n",
       "2      TDAE980878                    01/08/2018        170144,00   \n",
       "3     TDA24090300                    01/09/2024         17089,28   \n",
       "4      LFT 010323                    01/03/2023  134257731913,73   \n",
       "\n",
       "  Quantidade do Estoque Mes do Estoque Classe da Carteira  Tipo de Divida  \n",
       "0              10680,00        06/2018            Mercado  Dívida Interna  \n",
       "1                482,00        06/2018            Mercado  Dívida Interna  \n",
       "2               1636,00        06/2018            Mercado  Dívida Interna  \n",
       "3                169,00        06/2018            Mercado  Dívida Interna  \n",
       "4           14044631,71        06/2018            Mercado  Dívida Interna  "
      ]
     },
     "execution_count": 205,
     "metadata": {},
     "output_type": "execute_result"
    }
   ],
   "source": [
    "df_estoque_DPF.head()"
   ]
  },
  {
   "cell_type": "code",
   "execution_count": 206,
   "id": "176a591a-c6c2-4519-ba3d-4c8226de2515",
   "metadata": {},
   "outputs": [
    {
     "data": {
      "text/html": [
       "<div>\n",
       "<style scoped>\n",
       "    .dataframe tbody tr th:only-of-type {\n",
       "        vertical-align: middle;\n",
       "    }\n",
       "\n",
       "    .dataframe tbody tr th {\n",
       "        vertical-align: top;\n",
       "    }\n",
       "\n",
       "    .dataframe thead th {\n",
       "        text-align: right;\n",
       "    }\n",
       "</style>\n",
       "<table border=\"1\" class=\"dataframe\">\n",
       "  <thead>\n",
       "    <tr style=\"text-align: right;\">\n",
       "      <th></th>\n",
       "      <th>Titulo/Contrato</th>\n",
       "      <th>Vencimento do Titulo/Contrato</th>\n",
       "      <th>Valor do Estoque</th>\n",
       "      <th>Quantidade do Estoque</th>\n",
       "      <th>Mes do Estoque</th>\n",
       "      <th>Classe da Carteira</th>\n",
       "      <th>Tipo de Divida</th>\n",
       "    </tr>\n",
       "  </thead>\n",
       "  <tbody>\n",
       "    <tr>\n",
       "      <th>149975</th>\n",
       "      <td>TDAD12D231</td>\n",
       "      <td>01/04/2020</td>\n",
       "      <td>1947136,66</td>\n",
       "      <td>19313,00</td>\n",
       "      <td>12/2018</td>\n",
       "      <td>Mercado</td>\n",
       "      <td>Dívida Interna</td>\n",
       "    </tr>\n",
       "    <tr>\n",
       "      <th>149976</th>\n",
       "      <td>Global 2045</td>\n",
       "      <td>27/01/2045</td>\n",
       "      <td>13789620000,00</td>\n",
       "      <td>3550000,00</td>\n",
       "      <td>12/2018</td>\n",
       "      <td>Mercado</td>\n",
       "      <td>Dívida Externa</td>\n",
       "    </tr>\n",
       "    <tr>\n",
       "      <th>149977</th>\n",
       "      <td>TDAD13F238</td>\n",
       "      <td>01/06/2028</td>\n",
       "      <td>397343,62</td>\n",
       "      <td>3958,00</td>\n",
       "      <td>12/2018</td>\n",
       "      <td>Mercado</td>\n",
       "      <td>Dívida Interna</td>\n",
       "    </tr>\n",
       "    <tr>\n",
       "      <th>149978</th>\n",
       "      <td>TDAD13G237</td>\n",
       "      <td>01/07/2027</td>\n",
       "      <td>32952,64</td>\n",
       "      <td>329,00</td>\n",
       "      <td>12/2018</td>\n",
       "      <td>Mercado</td>\n",
       "      <td>Dívida Interna</td>\n",
       "    </tr>\n",
       "    <tr>\n",
       "      <th>149979</th>\n",
       "      <td>TDAD12D233</td>\n",
       "      <td>01/04/2022</td>\n",
       "      <td>1947522,92</td>\n",
       "      <td>19313,00</td>\n",
       "      <td>12/2018</td>\n",
       "      <td>Mercado</td>\n",
       "      <td>Dívida Interna</td>\n",
       "    </tr>\n",
       "  </tbody>\n",
       "</table>\n",
       "</div>"
      ],
      "text/plain": [
       "       Titulo/Contrato Vencimento do Titulo/Contrato Valor do Estoque  \\\n",
       "149975      TDAD12D231                    01/04/2020       1947136,66   \n",
       "149976     Global 2045                    27/01/2045   13789620000,00   \n",
       "149977      TDAD13F238                    01/06/2028        397343,62   \n",
       "149978      TDAD13G237                    01/07/2027         32952,64   \n",
       "149979      TDAD12D233                    01/04/2022       1947522,92   \n",
       "\n",
       "       Quantidade do Estoque Mes do Estoque Classe da Carteira  Tipo de Divida  \n",
       "149975              19313,00        12/2018            Mercado  Dívida Interna  \n",
       "149976            3550000,00        12/2018            Mercado  Dívida Externa  \n",
       "149977               3958,00        12/2018            Mercado  Dívida Interna  \n",
       "149978                329,00        12/2018            Mercado  Dívida Interna  \n",
       "149979              19313,00        12/2018            Mercado  Dívida Interna  "
      ]
     },
     "execution_count": 206,
     "metadata": {},
     "output_type": "execute_result"
    }
   ],
   "source": [
    "df_estoque_DPF.tail()"
   ]
  },
  {
   "cell_type": "markdown",
   "id": "0ae7c7a3",
   "metadata": {},
   "source": [
    "## Selecionando apenas valores númericos"
   ]
  },
  {
   "cell_type": "code",
   "execution_count": 207,
   "id": "a40fc6e6",
   "metadata": {},
   "outputs": [],
   "source": [
    "colunas_numericas = ['Valor do Estoque', 'Quantidade do Estoque']\n",
    "for coluna in colunas_numericas:\n",
    "    df_estoque_DPF[coluna] = pd.to_numeric(df_estoque_DPF[coluna].str.replace(',', '.'), errors='coerce')\n"
   ]
  },
  {
   "cell_type": "code",
   "execution_count": 208,
   "id": "091544a1",
   "metadata": {},
   "outputs": [],
   "source": [
    "df_numerico = df_estoque_DPF.select_dtypes(include=['float64', 'int64'])"
   ]
  },
  {
   "cell_type": "markdown",
   "id": "ad79ae43",
   "metadata": {},
   "source": [
    "# Correção "
   ]
  },
  {
   "cell_type": "code",
   "execution_count": 209,
   "id": "06aaa57b",
   "metadata": {},
   "outputs": [
    {
     "name": "stdout",
     "output_type": "stream",
     "text": [
      "                       Valor do Estoque  Quantidade do Estoque\n",
      "Valor do Estoque               1.000000               0.367146\n",
      "Quantidade do Estoque          0.367146               1.000000\n"
     ]
    }
   ],
   "source": [
    "correlacao = df_numerico.corr()\n",
    "print(correlacao)"
   ]
  },
  {
   "cell_type": "code",
   "execution_count": 210,
   "id": "57586b00",
   "metadata": {},
   "outputs": [
    {
     "data": {
      "image/png": "[encoded data removed]",
      "text/plain": [
       "<Figure size 1000x800 with 2 Axes>"
      ]
     },
     "metadata": {},
     "output_type": "display_data"
    }
   ],
   "source": [
    "plt.figure(figsize=(10, 8))\n",
    "sns.heatmap(correlacao, annot=True, cmap='coolwarm', fmt=\".2f\")\n",
    "plt.title('Matriz de Correlação')\n",
    "plt.show()"
   ]
  },
  {
   "cell_type": "code",
   "execution_count": 211,
   "id": "bd2e1ad4",
   "metadata": {},
   "outputs": [],
   "source": [
    "modelos_de_regressao = {\n",
    "    'Linear Regression': LinearRegression(),\n",
    "    'Random Forest Regressor': RandomForestRegressor(n_estimators=100, random_state = 0),\n",
    "    'Decision Tree Regressor': DecisionTreeRegressor(random_state = 0)\n",
    "}"
   ]
  },
  {
   "cell_type": "code",
   "execution_count": 212,
   "id": "c8ef61b2-e8c5-45fb-adb6-8a437e37cec4",
   "metadata": {},
   "outputs": [],
   "source": [
    "resultados_rg = {\n",
    "    'Modelo': [],\n",
    "    'Score': []\n",
    "}"
   ]
  },
  {
   "cell_type": "code",
   "execution_count": 213,
   "id": "dfbe5e11-51aa-49a1-9ce8-f9372902f8c3",
   "metadata": {},
   "outputs": [
    {
     "data": {
      "text/plain": [
       "((149980, 2), (149980,))"
      ]
     },
     "execution_count": 213,
     "metadata": {},
     "output_type": "execute_result"
    }
   ],
   "source": [
    "X_estoque = df_estoque_DPF.drop(['Titulo/Contrato','Vencimento do Titulo/Contrato','Mes do Estoque','Classe da Carteira','Tipo de Divida'],axis =1 )\n",
    "Y_estoque = df_estoque_DPF['Quantidade do Estoque']\n",
    "X_estoque.shape, Y_estoque.shape"
   ]
  },
  {
   "cell_type": "code",
   "execution_count": 214,
   "id": "208a9d56-908d-49f9-b9be-724277784e10",
   "metadata": {},
   "outputs": [],
   "source": [
    "X_train_estoque,X_test_estoque, Y_train_estoque,Y_test_estoque = train_test_split(\n",
    "    X_estoque,Y_estoque,\n",
    "    test_size = 0.30,\n",
    "    random_state = 0\n",
    ")"
   ]
  },
  {
   "cell_type": "code",
   "execution_count": 215,
   "id": "8e1d286a-8d6e-4192-8d7b-5d44a7c6ce42",
   "metadata": {},
   "outputs": [
    {
     "name": "stdout",
     "output_type": "stream",
     "text": [
      "\n",
      "==== Linear Regression =====\n",
      "MSE:  1.053750286627457e-16\n",
      "r2_score:  1.0\n",
      "--------------------------------------------------------------------------------\n",
      "\n",
      "==== Random Forest Regressor =====\n",
      "MSE:  1414041865264.1345\n",
      "r2_score:  0.9976825132960679\n",
      "--------------------------------------------------------------------------------\n",
      "\n",
      "==== Decision Tree Regressor =====\n",
      "MSE:  1115020448016.8386\n",
      "r2_score:  0.9981725823496685\n",
      "--------------------------------------------------------------------------------\n"
     ]
    }
   ],
   "source": [
    "for nome_modelo, modelo in  modelos_de_regressao.items():\n",
    "    modelo.fit(X_train_estoque,Y_train_estoque)\n",
    "    y_preds_regression = modelo.predict(X_test_estoque)\n",
    "    mse_regression = mean_squared_error(Y_test_estoque,y_preds_regression)\n",
    "    r2_score_regression = r2_score(Y_test_estoque,y_preds_regression)\n",
    "    resultados_rg['Modelo'].append(nome_modelo)\n",
    "    resultados_rg['Score'].append(r2_score_regression)\n",
    "\n",
    "    print(f'\\n==== {nome_modelo} =====')\n",
    "    print('MSE: ', mse_regression)\n",
    "    print('r2_score: ', r2_score_regression)\n",
    "    print('-' * 80)"
   ]
  },
  {
   "cell_type": "markdown",
   "id": "58eb9595",
   "metadata": {},
   "source": [
    "# Classificação"
   ]
  },
  {
   "cell_type": "code",
   "execution_count": 216,
   "id": "73932e9c",
   "metadata": {},
   "outputs": [],
   "source": [
    "from sklearn.tree import DecisionTreeClassifier\n",
    "from sklearn.ensemble import RandomForestClassifier\n",
    "from sklearn.neighbors import KNeighborsClassifier\n",
    "from sklearn.metrics import accuracy_score, classification_report, confusion_matrix"
   ]
  },
  {
   "cell_type": "code",
   "execution_count": 217,
   "id": "ae9d5693",
   "metadata": {},
   "outputs": [],
   "source": [
    "modelos_nb = {\n",
    "    \"DecisionTreeClassifier\": DecisionTreeClassifier(random_state=0),\n",
    "    \"RandomForestClassifier\":RandomForestClassifier(n_estimators=1500, random_state=0),\n",
    "    \"KNeighborsClassifier\": KNeighborsClassifier(n_neighbors=5)\n",
    "}"
   ]
  },
  {
   "cell_type": "code",
   "execution_count": 218,
   "id": "45878ebf",
   "metadata": {},
   "outputs": [],
   "source": [
    "candidatura_2022= pd.read_csv(path_candatos + 'consulta_cand_2022_BRASIL.csv',encoding='latin-1',sep=';')"
   ]
  },
  {
   "cell_type": "code",
   "execution_count": 219,
   "id": "2a458fc4",
   "metadata": {},
   "outputs": [
    {
     "data": {
      "text/plain": [
       "0        CIDADANIA\n",
       "1             PROS\n",
       "2             PROS\n",
       "3              PDT\n",
       "4              PSC\n",
       "           ...    \n",
       "29309         PSDB\n",
       "29310          PDT\n",
       "29311         REDE\n",
       "29312         PODE\n",
       "29313          PDT\n",
       "Name: SG_PARTIDO, Length: 29314, dtype: object"
      ]
     },
     "execution_count": 219,
     "metadata": {},
     "output_type": "execute_result"
    }
   ],
   "source": [
    "candidatura_2022['SG_PARTIDO']"
   ]
  },
  {
   "cell_type": "code",
   "execution_count": 220,
   "id": "c7eaf80f",
   "metadata": {},
   "outputs": [
    {
     "data": {
      "text/plain": [
       "0                                      CIDADANIA\n",
       "1            PARTIDO REPUBLICANO DA ORDEM SOCIAL\n",
       "2            PARTIDO REPUBLICANO DA ORDEM SOCIAL\n",
       "3                PARTIDO DEMOCRÁTICO TRABALHISTA\n",
       "4                         PARTIDO SOCIAL CRISTÃO\n",
       "                          ...                   \n",
       "29309    PARTIDO DA SOCIAL DEMOCRACIA BRASILEIRA\n",
       "29310            PARTIDO DEMOCRÁTICO TRABALHISTA\n",
       "29311                      REDE SUSTENTABILIDADE\n",
       "29312                                    PODEMOS\n",
       "29313            PARTIDO DEMOCRÁTICO TRABALHISTA\n",
       "Name: NM_PARTIDO, Length: 29314, dtype: object"
      ]
     },
     "execution_count": 220,
     "metadata": {},
     "output_type": "execute_result"
    }
   ],
   "source": [
    "candidatura_2022['NM_PARTIDO']"
   ]
  },
  {
   "cell_type": "code",
   "execution_count": 221,
   "id": "55597315",
   "metadata": {},
   "outputs": [
    {
     "data": {
      "text/plain": [
       "0        23\n",
       "1        90\n",
       "2        90\n",
       "3        12\n",
       "4        20\n",
       "         ..\n",
       "29309    45\n",
       "29310    12\n",
       "29311    18\n",
       "29312    19\n",
       "29313    12\n",
       "Name: NR_PARTIDO, Length: 29314, dtype: int64"
      ]
     },
     "execution_count": 221,
     "metadata": {},
     "output_type": "execute_result"
    }
   ],
   "source": [
    "candidatura_2022['NR_PARTIDO']"
   ]
  },
  {
   "cell_type": "code",
   "execution_count": 222,
   "id": "98b568d2",
   "metadata": {},
   "outputs": [],
   "source": [
    "labelenconder_sg = LabelEncoder()\n",
    "labelenconder_nm = LabelEncoder()\n",
    "\n",
    "candidatura_2022['SG_PARTIDO'] = labelenconder_sg.fit_transform(candidatura_2022['SG_PARTIDO'])\n",
    "candidatura_2022['NM_PARTIDO'] = labelenconder_nm.fit_transform(candidatura_2022['NM_PARTIDO']) \n"
   ]
  },
  {
   "cell_type": "code",
   "execution_count": 223,
   "id": "00b4d48a",
   "metadata": {},
   "outputs": [],
   "source": [
    "X_candidatura=candidatura_2022[['NR_PARTIDO','SG_PARTIDO']]\n",
    "y_candidatura=candidatura_2022['NM_PARTIDO']\n"
   ]
  },
  {
   "cell_type": "code",
   "execution_count": 224,
   "id": "025723b0",
   "metadata": {},
   "outputs": [
    {
     "data": {
      "text/plain": [
       "((20519, 2), (8795, 2), (20519,), (8795,))"
      ]
     },
     "execution_count": 224,
     "metadata": {},
     "output_type": "execute_result"
    }
   ],
   "source": [
    "X_train_candidatura, X_test_candidatura, y_train_candidatura, y_test_candidatura = train_test_split(X_candidatura, y_candidatura,\n",
    "                                                                                 test_size=0.3, shuffle=True,random_state=0)\n",
    "X_train_candidatura.shape,X_test_candidatura.shape,y_train_candidatura.shape,y_test_candidatura.shape"
   ]
  },
  {
   "cell_type": "code",
   "execution_count": 225,
   "id": "0768b8f3",
   "metadata": {},
   "outputs": [
    {
     "data": {
      "text/html": [
       "<div>\n",
       "<style scoped>\n",
       "    .dataframe tbody tr th:only-of-type {\n",
       "        vertical-align: middle;\n",
       "    }\n",
       "\n",
       "    .dataframe tbody tr th {\n",
       "        vertical-align: top;\n",
       "    }\n",
       "\n",
       "    .dataframe thead th {\n",
       "        text-align: right;\n",
       "    }\n",
       "</style>\n",
       "<table border=\"1\" class=\"dataframe\">\n",
       "  <thead>\n",
       "    <tr style=\"text-align: right;\">\n",
       "      <th></th>\n",
       "      <th>NR_PARTIDO</th>\n",
       "      <th>SG_PARTIDO</th>\n",
       "    </tr>\n",
       "  </thead>\n",
       "  <tbody>\n",
       "    <tr>\n",
       "      <th>count</th>\n",
       "      <td>29314.000000</td>\n",
       "      <td>29314.000000</td>\n",
       "    </tr>\n",
       "    <tr>\n",
       "      <th>mean</th>\n",
       "      <td>33.950911</td>\n",
       "      <td>15.810261</td>\n",
       "    </tr>\n",
       "    <tr>\n",
       "      <th>std</th>\n",
       "      <td>21.438969</td>\n",
       "      <td>8.943285</td>\n",
       "    </tr>\n",
       "    <tr>\n",
       "      <th>min</th>\n",
       "      <td>10.000000</td>\n",
       "      <td>0.000000</td>\n",
       "    </tr>\n",
       "    <tr>\n",
       "      <th>25%</th>\n",
       "      <td>15.000000</td>\n",
       "      <td>10.000000</td>\n",
       "    </tr>\n",
       "    <tr>\n",
       "      <th>50%</th>\n",
       "      <td>28.000000</td>\n",
       "      <td>16.000000</td>\n",
       "    </tr>\n",
       "    <tr>\n",
       "      <th>75%</th>\n",
       "      <td>45.000000</td>\n",
       "      <td>24.000000</td>\n",
       "    </tr>\n",
       "    <tr>\n",
       "      <th>max</th>\n",
       "      <td>90.000000</td>\n",
       "      <td>31.000000</td>\n",
       "    </tr>\n",
       "  </tbody>\n",
       "</table>\n",
       "</div>"
      ],
      "text/plain": [
       "         NR_PARTIDO    SG_PARTIDO\n",
       "count  29314.000000  29314.000000\n",
       "mean      33.950911     15.810261\n",
       "std       21.438969      8.943285\n",
       "min       10.000000      0.000000\n",
       "25%       15.000000     10.000000\n",
       "50%       28.000000     16.000000\n",
       "75%       45.000000     24.000000\n",
       "max       90.000000     31.000000"
      ]
     },
     "execution_count": 225,
     "metadata": {},
     "output_type": "execute_result"
    }
   ],
   "source": [
    "X_candidatura.describe()"
   ]
  },
  {
   "cell_type": "code",
   "execution_count": 226,
   "id": "dbf1a957",
   "metadata": {},
   "outputs": [],
   "source": [
    "resultado_nb =  {\n",
    "    'Modelo': [],\n",
    "    'Acuracia': []\n",
    "}"
   ]
  },
  {
   "cell_type": "code",
   "execution_count": 227,
   "id": "64a65585",
   "metadata": {},
   "outputs": [
    {
     "name": "stdout",
     "output_type": "stream",
     "text": [
      "\n",
      "==== DecisionTreeClassifier =====\n",
      "Acurácia: 1.0000\n",
      "Relatório de classificação\n",
      "              precision    recall  f1-score   support\n",
      "\n",
      "           0       1.00      1.00      1.00       318\n",
      "           1       1.00      1.00      1.00       320\n",
      "           2       1.00      1.00      1.00       156\n",
      "           3       1.00      1.00      1.00       236\n",
      "           4       1.00      1.00      1.00       419\n",
      "           5       1.00      1.00      1.00        24\n",
      "           6       1.00      1.00      1.00        68\n",
      "           7       1.00      1.00      1.00        55\n",
      "           8       1.00      1.00      1.00       235\n",
      "           9       1.00      1.00      1.00       236\n",
      "          10       1.00      1.00      1.00       289\n",
      "          11       1.00      1.00      1.00       376\n",
      "          12       1.00      1.00      1.00       329\n",
      "          13       1.00      1.00      1.00       483\n",
      "          14       1.00      1.00      1.00       162\n",
      "          15       1.00      1.00      1.00       273\n",
      "          16       1.00      1.00      1.00       327\n",
      "          17       1.00      1.00      1.00       309\n",
      "          18       1.00      1.00      1.00       356\n",
      "          19       1.00      1.00      1.00       292\n",
      "          20       1.00      1.00      1.00       400\n",
      "          21       1.00      1.00      1.00        54\n",
      "          22       1.00      1.00      1.00       407\n",
      "          23       1.00      1.00      1.00        92\n",
      "          24       1.00      1.00      1.00       376\n",
      "          25       1.00      1.00      1.00       386\n",
      "          26       1.00      1.00      1.00       410\n",
      "          27       1.00      1.00      1.00       154\n",
      "          28       1.00      1.00      1.00       441\n",
      "          29       1.00      1.00      1.00       315\n",
      "          30       1.00      1.00      1.00        25\n",
      "          31       1.00      1.00      1.00       472\n",
      "\n",
      "    accuracy                           1.00      8795\n",
      "   macro avg       1.00      1.00      1.00      8795\n",
      "weighted avg       1.00      1.00      1.00      8795\n",
      "\n",
      "Matriz de confusão\n",
      "[[318   0   0 ...   0   0   0]\n",
      " [  0 320   0 ...   0   0   0]\n",
      " [  0   0 156 ...   0   0   0]\n",
      " ...\n",
      " [  0   0   0 ... 315   0   0]\n",
      " [  0   0   0 ...   0  25   0]\n",
      " [  0   0   0 ...   0   0 472]]\n",
      "--------------------------------------------------------------------------------\n",
      "\n",
      "==== RandomForestClassifier =====\n",
      "Acurácia: 1.0000\n",
      "Relatório de classificação\n",
      "              precision    recall  f1-score   support\n",
      "\n",
      "           0       1.00      1.00      1.00       318\n",
      "           1       1.00      1.00      1.00       320\n",
      "           2       1.00      1.00      1.00       156\n",
      "           3       1.00      1.00      1.00       236\n",
      "           4       1.00      1.00      1.00       419\n",
      "           5       1.00      1.00      1.00        24\n",
      "           6       1.00      1.00      1.00        68\n",
      "           7       1.00      1.00      1.00        55\n",
      "           8       1.00      1.00      1.00       235\n",
      "           9       1.00      1.00      1.00       236\n",
      "          10       1.00      1.00      1.00       289\n",
      "          11       1.00      1.00      1.00       376\n",
      "          12       1.00      1.00      1.00       329\n",
      "          13       1.00      1.00      1.00       483\n",
      "          14       1.00      1.00      1.00       162\n",
      "          15       1.00      1.00      1.00       273\n",
      "          16       1.00      1.00      1.00       327\n",
      "          17       1.00      1.00      1.00       309\n",
      "          18       1.00      1.00      1.00       356\n",
      "          19       1.00      1.00      1.00       292\n",
      "          20       1.00      1.00      1.00       400\n",
      "          21       1.00      1.00      1.00        54\n",
      "          22       1.00      1.00      1.00       407\n",
      "          23       1.00      1.00      1.00        92\n",
      "          24       1.00      1.00      1.00       376\n",
      "          25       1.00      1.00      1.00       386\n",
      "          26       1.00      1.00      1.00       410\n",
      "          27       1.00      1.00      1.00       154\n",
      "          28       1.00      1.00      1.00       441\n",
      "          29       1.00      1.00      1.00       315\n",
      "          30       1.00      1.00      1.00        25\n",
      "          31       1.00      1.00      1.00       472\n",
      "\n",
      "    accuracy                           1.00      8795\n",
      "   macro avg       1.00      1.00      1.00      8795\n",
      "weighted avg       1.00      1.00      1.00      8795\n",
      "\n",
      "Matriz de confusão\n",
      "[[318   0   0 ...   0   0   0]\n",
      " [  0 320   0 ...   0   0   0]\n",
      " [  0   0 156 ...   0   0   0]\n",
      " ...\n",
      " [  0   0   0 ... 315   0   0]\n",
      " [  0   0   0 ...   0  25   0]\n",
      " [  0   0   0 ...   0   0 472]]\n",
      "--------------------------------------------------------------------------------\n",
      "\n",
      "==== KNeighborsClassifier =====\n",
      "Acurácia: 1.0000\n",
      "Relatório de classificação\n",
      "              precision    recall  f1-score   support\n",
      "\n",
      "           0       1.00      1.00      1.00       318\n",
      "           1       1.00      1.00      1.00       320\n",
      "           2       1.00      1.00      1.00       156\n",
      "           3       1.00      1.00      1.00       236\n",
      "           4       1.00      1.00      1.00       419\n",
      "           5       1.00      1.00      1.00        24\n",
      "           6       1.00      1.00      1.00        68\n",
      "           7       1.00      1.00      1.00        55\n",
      "           8       1.00      1.00      1.00       235\n",
      "           9       1.00      1.00      1.00       236\n",
      "          10       1.00      1.00      1.00       289\n",
      "          11       1.00      1.00      1.00       376\n",
      "          12       1.00      1.00      1.00       329\n",
      "          13       1.00      1.00      1.00       483\n",
      "          14       1.00      1.00      1.00       162\n",
      "          15       1.00      1.00      1.00       273\n",
      "          16       1.00      1.00      1.00       327\n",
      "          17       1.00      1.00      1.00       309\n",
      "          18       1.00      1.00      1.00       356\n",
      "          19       1.00      1.00      1.00       292\n",
      "          20       1.00      1.00      1.00       400\n",
      "          21       1.00      1.00      1.00        54\n",
      "          22       1.00      1.00      1.00       407\n",
      "          23       1.00      1.00      1.00        92\n",
      "          24       1.00      1.00      1.00       376\n",
      "          25       1.00      1.00      1.00       386\n",
      "          26       1.00      1.00      1.00       410\n",
      "          27       1.00      1.00      1.00       154\n",
      "          28       1.00      1.00      1.00       441\n",
      "          29       1.00      1.00      1.00       315\n",
      "          30       1.00      1.00      1.00        25\n",
      "          31       1.00      1.00      1.00       472\n",
      "\n",
      "    accuracy                           1.00      8795\n",
      "   macro avg       1.00      1.00      1.00      8795\n",
      "weighted avg       1.00      1.00      1.00      8795\n",
      "\n",
      "Matriz de confusão\n",
      "[[318   0   0 ...   0   0   0]\n",
      " [  0 320   0 ...   0   0   0]\n",
      " [  0   0 156 ...   0   0   0]\n",
      " ...\n",
      " [  0   0   0 ... 315   0   0]\n",
      " [  0   0   0 ...   0  25   0]\n",
      " [  0   0   0 ...   0   0 472]]\n",
      "--------------------------------------------------------------------------------\n"
     ]
    }
   ],
   "source": [
    "for nome_modelo, modelo in  modelos_nb.items():\n",
    "    modelo.fit(X_train_candidatura, y_train_candidatura)\n",
    "    y_preds_candidatura = modelo.predict(X_test_candidatura)\n",
    "    acc = accuracy_score(y_test_candidatura, y_preds_candidatura)\n",
    "    resultado_nb['Modelo'].append(nome_modelo)\n",
    "    resultado_nb['Acuracia'].append(acc)\n",
    "\n",
    "\n",
    "    print(f'\\n==== {nome_modelo} =====')\n",
    "    print(f'Acurácia: {acc:.4f}')\n",
    "    print('Relatório de classificação')\n",
    "    print(classification_report(y_test_candidatura, y_preds_candidatura, zero_division=0))\n",
    "    print('Matriz de confusão')\n",
    "    print(confusion_matrix(y_test_candidatura,y_preds_candidatura))\n",
    "    print('-' * 80)\n"
   ]
  },
  {
   "cell_type": "code",
   "execution_count": 228,
   "id": "d2555b47",
   "metadata": {},
   "outputs": [],
   "source": [
    "df_resultados_gerais = pd.DataFrame(resultado_nb)"
   ]
  },
  {
   "cell_type": "code",
   "execution_count": 229,
   "id": "57e786f8",
   "metadata": {},
   "outputs": [
    {
     "name": "stderr",
     "output_type": "stream",
     "text": [
      "/tmp/ipykernel_29177/1869525298.py:2: FutureWarning: \n",
      "\n",
      "Passing `palette` without assigning `hue` is deprecated and will be removed in v0.14.0. Assign the `x` variable to `hue` and set `legend=False` for the same effect.\n",
      "\n",
      "  sns.barplot(\n"
     ]
    },
    {
     "data": {
      "image/png": "[encoded data removed]",
      "text/plain": [
       "<Figure size 1200x600 with 1 Axes>"
      ]
     },
     "metadata": {},
     "output_type": "display_data"
    }
   ],
   "source": [
    "plt.figure(figsize=(12, 6))\n",
    "sns.barplot(\n",
    "        data=df_resultados_gerais,\n",
    "        x='Modelo',\n",
    "        y='Acuracia',\n",
    "        palette='viridis'\n",
    ")\n",
    "\n",
    "plt.title('Comparação geral de modelos de classificação (Consulta Candidato 2022)', fontsize=16, fontweight='bold')\n",
    "plt.xticks(rotation=30, ha='right', fontsize=10)\n",
    "\n",
    "\n",
    "for i, v in enumerate(df_resultados_gerais['Acuracia']):\n",
    "        plt.text(i, v + 0.003, f'{v:.3f}', ha='center', fontsize=10, fontweight='bold')\n",
    "plt.grid(axis='y', linestyle='--', alpha=0.7)\n",
    "plt.tight_layout()\n",
    "plt.show()"
   ]
  },
  {
   "cell_type": "code",
   "execution_count": null,
   "id": "8e68a9ce",
   "metadata": {},
   "outputs": [],
   "source": []
  }
 ],
 "metadata": {
  "kernelspec": {
   "display_name": "Python (turma2)",
   "language": "python",
   "name": "turma2"
  },
  "language_info": {
   "codemirror_mode": {
    "name": "ipython",
    "version": 3
   },
   "file_extension": ".py",
   "mimetype": "text/x-python",
   "name": "python",
   "nbconvert_exporter": "python",
   "pygments_lexer": "ipython3",
   "version": "3.10.15"
  }
 },
 "nbformat": 4,
 "nbformat_minor": 5
}
