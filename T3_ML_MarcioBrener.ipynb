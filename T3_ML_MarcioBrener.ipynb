{
 "cells": [
  {
   "cell_type": "code",
   "execution_count": 39,
   "id": "8cdd110a",
   "metadata": {},
   "outputs": [],
   "source": [
    "path = '/home/marciobrener/Documentos/MachineLearning/arquivos_csv/'"
   ]
  },
  {
   "cell_type": "code",
   "execution_count": 40,
   "id": "09ec203c",
   "metadata": {},
   "outputs": [],
   "source": [
    "import numpy as np\n",
    "import pandas as pd"
   ]
  },
  {
   "cell_type": "code",
   "execution_count": 41,
   "id": "d1f42341",
   "metadata": {},
   "outputs": [],
   "source": [
    "import seaborn as sns\n",
    "import matplotlib.pyplot as plt"
   ]
  },
  {
   "cell_type": "code",
   "execution_count": 42,
   "id": "68797bce",
   "metadata": {},
   "outputs": [],
   "source": [
    "from sklearn import tree\n",
    "from sklearn.model_selection import train_test_split\n",
    "from sklearn.preprocessing import LabelEncoder"
   ]
  },
  {
   "cell_type": "code",
   "execution_count": 43,
   "id": "749b8a20",
   "metadata": {},
   "outputs": [],
   "source": [
    "from sklearn.tree import DecisionTreeRegressor\n",
    "from sklearn.ensemble import RandomForestRegressor\n",
    "from sklearn.linear_model import LinearRegression"
   ]
  },
  {
   "cell_type": "markdown",
   "id": "9429064e",
   "metadata": {},
   "source": [
    "# Regressão"
   ]
  },
  {
   "cell_type": "code",
   "execution_count": 44,
   "id": "e784e6c9",
   "metadata": {},
   "outputs": [],
   "source": [
    "df_estoque_DPF = pd.read_csv(path + 'EstoqueDPF.csv',sep=';')"
   ]
  },
  {
   "cell_type": "code",
   "execution_count": 45,
   "id": "7963baca",
   "metadata": {},
   "outputs": [
    {
     "name": "stdout",
     "output_type": "stream",
     "text": [
      "<class 'pandas.core.frame.DataFrame'>\n",
      "RangeIndex: 149980 entries, 0 to 149979\n",
      "Data columns (total 7 columns):\n",
      " #   Column                         Non-Null Count   Dtype \n",
      "---  ------                         --------------   ----- \n",
      " 0   Titulo/Contrato                149980 non-null  object\n",
      " 1   Vencimento do Titulo/Contrato  149980 non-null  object\n",
      " 2   Valor do Estoque               149980 non-null  object\n",
      " 3   Quantidade do Estoque          149980 non-null  object\n",
      " 4   Mes do Estoque                 149980 non-null  object\n",
      " 5   Classe da Carteira             149980 non-null  object\n",
      " 6   Tipo de Divida                 149980 non-null  object\n",
      "dtypes: object(7)\n",
      "memory usage: 8.0+ MB\n"
     ]
    }
   ],
   "source": [
    "df_estoque_DPF.info()"
   ]
  },
  {
   "cell_type": "code",
   "execution_count": 51,
   "id": "c8713998",
   "metadata": {},
   "outputs": [
    {
     "data": {
      "text/html": [
       "<div>\n",
       "<style scoped>\n",
       "    .dataframe tbody tr th:only-of-type {\n",
       "        vertical-align: middle;\n",
       "    }\n",
       "\n",
       "    .dataframe tbody tr th {\n",
       "        vertical-align: top;\n",
       "    }\n",
       "\n",
       "    .dataframe thead th {\n",
       "        text-align: right;\n",
       "    }\n",
       "</style>\n",
       "<table border=\"1\" class=\"dataframe\">\n",
       "  <thead>\n",
       "    <tr style=\"text-align: right;\">\n",
       "      <th></th>\n",
       "      <th>Titulo/Contrato</th>\n",
       "      <th>Vencimento do Titulo/Contrato</th>\n",
       "      <th>Valor do Estoque</th>\n",
       "      <th>Quantidade do Estoque</th>\n",
       "      <th>Mes do Estoque</th>\n",
       "      <th>Classe da Carteira</th>\n",
       "      <th>Tipo de Divida</th>\n",
       "    </tr>\n",
       "  </thead>\n",
       "  <tbody>\n",
       "    <tr>\n",
       "      <th>149975</th>\n",
       "      <td>TDAD12D231</td>\n",
       "      <td>01/04/2020</td>\n",
       "      <td>1.947137e+06</td>\n",
       "      <td>19313.0</td>\n",
       "      <td>12/2018</td>\n",
       "      <td>Mercado</td>\n",
       "      <td>Dívida Interna</td>\n",
       "    </tr>\n",
       "    <tr>\n",
       "      <th>149976</th>\n",
       "      <td>Global 2045</td>\n",
       "      <td>27/01/2045</td>\n",
       "      <td>1.378962e+10</td>\n",
       "      <td>3550000.0</td>\n",
       "      <td>12/2018</td>\n",
       "      <td>Mercado</td>\n",
       "      <td>Dívida Externa</td>\n",
       "    </tr>\n",
       "    <tr>\n",
       "      <th>149977</th>\n",
       "      <td>TDAD13F238</td>\n",
       "      <td>01/06/2028</td>\n",
       "      <td>3.973436e+05</td>\n",
       "      <td>3958.0</td>\n",
       "      <td>12/2018</td>\n",
       "      <td>Mercado</td>\n",
       "      <td>Dívida Interna</td>\n",
       "    </tr>\n",
       "    <tr>\n",
       "      <th>149978</th>\n",
       "      <td>TDAD13G237</td>\n",
       "      <td>01/07/2027</td>\n",
       "      <td>3.295264e+04</td>\n",
       "      <td>329.0</td>\n",
       "      <td>12/2018</td>\n",
       "      <td>Mercado</td>\n",
       "      <td>Dívida Interna</td>\n",
       "    </tr>\n",
       "    <tr>\n",
       "      <th>149979</th>\n",
       "      <td>TDAD12D233</td>\n",
       "      <td>01/04/2022</td>\n",
       "      <td>1.947523e+06</td>\n",
       "      <td>19313.0</td>\n",
       "      <td>12/2018</td>\n",
       "      <td>Mercado</td>\n",
       "      <td>Dívida Interna</td>\n",
       "    </tr>\n",
       "  </tbody>\n",
       "</table>\n",
       "</div>"
      ],
      "text/plain": [
       "       Titulo/Contrato Vencimento do Titulo/Contrato  Valor do Estoque  \\\n",
       "149975      TDAD12D231                    01/04/2020      1.947137e+06   \n",
       "149976     Global 2045                    27/01/2045      1.378962e+10   \n",
       "149977      TDAD13F238                    01/06/2028      3.973436e+05   \n",
       "149978      TDAD13G237                    01/07/2027      3.295264e+04   \n",
       "149979      TDAD12D233                    01/04/2022      1.947523e+06   \n",
       "\n",
       "        Quantidade do Estoque Mes do Estoque Classe da Carteira  \\\n",
       "149975                19313.0        12/2018            Mercado   \n",
       "149976              3550000.0        12/2018            Mercado   \n",
       "149977                 3958.0        12/2018            Mercado   \n",
       "149978                  329.0        12/2018            Mercado   \n",
       "149979                19313.0        12/2018            Mercado   \n",
       "\n",
       "        Tipo de Divida  \n",
       "149975  Dívida Interna  \n",
       "149976  Dívida Externa  \n",
       "149977  Dívida Interna  \n",
       "149978  Dívida Interna  \n",
       "149979  Dívida Interna  "
      ]
     },
     "execution_count": 51,
     "metadata": {},
     "output_type": "execute_result"
    }
   ],
   "source": [
    "df_estoque_DPF.tail()"
   ]
  },
  {
   "cell_type": "markdown",
   "id": "0ae7c7a3",
   "metadata": {},
   "source": [
    "## Selecionando apenas valores númericos"
   ]
  },
  {
   "cell_type": "code",
   "execution_count": 47,
   "id": "a40fc6e6",
   "metadata": {},
   "outputs": [],
   "source": [
    "colunas_numericas = ['Valor do Estoque', 'Quantidade do Estoque']\n",
    "for coluna in colunas_numericas:\n",
    "    df_estoque_DPF[coluna] = pd.to_numeric(df_estoque_DPF[coluna].str.replace(',', '.'), errors='coerce')\n"
   ]
  },
  {
   "cell_type": "code",
   "execution_count": 48,
   "id": "091544a1",
   "metadata": {},
   "outputs": [],
   "source": [
    "df_numerico = df_estoque_DPF.select_dtypes(include=['float64', 'int64'])"
   ]
  },
  {
   "cell_type": "markdown",
   "id": "ad79ae43",
   "metadata": {},
   "source": [
    "# Correção "
   ]
  },
  {
   "cell_type": "code",
   "execution_count": 49,
   "id": "06aaa57b",
   "metadata": {},
   "outputs": [
    {
     "name": "stdout",
     "output_type": "stream",
     "text": [
      "                       Valor do Estoque  Quantidade do Estoque\n",
      "Valor do Estoque               1.000000               0.367146\n",
      "Quantidade do Estoque          0.367146               1.000000\n"
     ]
    }
   ],
   "source": [
    "correlacao = df_numerico.corr()\n",
    "print(correlacao)"
   ]
  },
  {
   "cell_type": "code",
   "execution_count": 50,
   "id": "57586b00",
   "metadata": {},
   "outputs": [
    {
     "data": {
      "image/png": "[encoded data removed]",
      "text/plain": [
       "<Figure size 1000x800 with 2 Axes>"
      ]
     },
     "metadata": {},
     "output_type": "display_data"
    }
   ],
   "source": [
    "plt.figure(figsize=(10, 8))\n",
    "sns.heatmap(correlacao, annot=True, cmap='coolwarm', fmt=\".2f\")\n",
    "plt.title('Matriz de Correlação')\n",
    "plt.show()"
   ]
  },
  {
   "cell_type": "code",
   "execution_count": null,
   "id": "bd2e1ad4",
   "metadata": {},
   "outputs": [],
   "source": []
  }
 ],
 "metadata": {
  "kernelspec": {
   "display_name": "Python (turma2)",
   "language": "python",
   "name": "turma2"
  },
  "language_info": {
   "codemirror_mode": {
    "name": "ipython",
    "version": 3
   },
   "file_extension": ".py",
   "mimetype": "text/x-python",
   "name": "python",
   "nbconvert_exporter": "python",
   "pygments_lexer": "ipython3",
   "version": "3.10.15"
  }
 },
 "nbformat": 4,
 "nbformat_minor": 5
}
