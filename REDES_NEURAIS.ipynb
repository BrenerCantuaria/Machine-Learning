{
 "cells": [
  {
   "cell_type": "code",
   "execution_count": 23,
   "id": "b88468be-06ba-416c-a671-76a3f2036cbe",
   "metadata": {},
   "outputs": [],
   "source": [
    "import keras"
   ]
  },
  {
   "cell_type": "code",
   "execution_count": 24,
   "id": "52b86ad0-e31c-4fcc-a5be-df72b32c4786",
   "metadata": {},
   "outputs": [],
   "source": [
    "import numpy as np"
   ]
  },
  {
   "cell_type": "code",
   "execution_count": 25,
   "id": "cbb857a0-5b4e-4004-a12d-f761486ad34d",
   "metadata": {},
   "outputs": [],
   "source": [
    "import tensorflow.keras as tk\n"
   ]
  },
  {
   "cell_type": "code",
   "execution_count": 26,
   "id": "2711c761-d5be-4b94-bcbb-49a8d1775a21",
   "metadata": {},
   "outputs": [],
   "source": [
    "import keras.datasets as ds"
   ]
  },
  {
   "cell_type": "code",
   "execution_count": 27,
   "id": "69f466db-ba50-4ed7-ad4b-55d07678e28e",
   "metadata": {},
   "outputs": [],
   "source": [
    "from keras import layers"
   ]
  },
  {
   "cell_type": "code",
   "execution_count": 28,
   "id": "af860326-4a05-4a7c-ad8a-aed3ec0023fb",
   "metadata": {},
   "outputs": [],
   "source": [
    "from datetime import datetime"
   ]
  },
  {
   "cell_type": "code",
   "execution_count": 29,
   "id": "99aacf11-41f5-4a83-8ad4-51c153a59cec",
   "metadata": {},
   "outputs": [],
   "source": [
    "logdir = 'log/scalars/' + datetime.now().strftime('%Y%m%d - %H%M%S')"
   ]
  },
  {
   "cell_type": "code",
   "execution_count": 30,
   "id": "33b37d82-ab89-432d-99c1-e4017b550027",
   "metadata": {},
   "outputs": [
    {
     "name": "stdout",
     "output_type": "stream",
     "text": [
      "The tensorboard extension is already loaded. To reload it, use:\n",
      "  %reload_ext tensorboard\n"
     ]
    }
   ],
   "source": [
    "%load_ext tensorboard"
   ]
  },
  {
   "cell_type": "code",
   "execution_count": 31,
   "id": "11d2c1df-c219-4fba-a8e9-28f1a4a198e5",
   "metadata": {},
   "outputs": [],
   "source": [
    "tensorboard_callback = keras.callbacks.TensorBoard(log_dir = logdir)"
   ]
  },
  {
   "cell_type": "code",
   "execution_count": 32,
   "id": "d7450786-7eb2-4cc3-ba3f-0e3ed32fd9f2",
   "metadata": {},
   "outputs": [],
   "source": [
    "num_classes = 10"
   ]
  },
  {
   "cell_type": "code",
   "execution_count": 33,
   "id": "fc2ba9cd-f8b7-48ce-b2f4-2a52c589aec5",
   "metadata": {},
   "outputs": [],
   "source": [
    "input_shape = (28,28,1)"
   ]
  },
  {
   "cell_type": "code",
   "execution_count": 34,
   "id": "c33db17a-3dc1-487c-81ee-7c69c0c686c3",
   "metadata": {},
   "outputs": [],
   "source": [
    "mnist = tk.datasets.mnist"
   ]
  },
  {
   "cell_type": "code",
   "execution_count": 35,
   "id": "8258ad87-a8f2-4475-bbc1-95be53f6993e",
   "metadata": {},
   "outputs": [],
   "source": [
    "(X_train,Y_train),(X_test,Y_test) = mnist.load_data()"
   ]
  },
  {
   "cell_type": "code",
   "execution_count": 36,
   "id": "4d73db0f-5f7e-4d48-861e-8b1c906be26f",
   "metadata": {},
   "outputs": [
    {
     "data": {
      "text/plain": [
       "((60000, 28, 28), (60000,), (10000, 28, 28), (10000,))"
      ]
     },
     "execution_count": 36,
     "metadata": {},
     "output_type": "execute_result"
    }
   ],
   "source": [
    "X_train.shape,Y_train.shape,X_test.shape,Y_test.shape"
   ]
  },
  {
   "cell_type": "code",
   "execution_count": 37,
   "id": "1c7e9377-db56-458b-93f5-405b2e3416cb",
   "metadata": {},
   "outputs": [],
   "source": [
    "X_train = X_train.astype('float32') / 255\n",
    "X_test = X_test.astype('float32') / 255"
   ]
  },
  {
   "cell_type": "markdown",
   "id": "d47b8bcc-50a8-4962-962d-8c7566561bcd",
   "metadata": {},
   "source": [
    "## Tensor é um array multidimensional"
   ]
  },
  {
   "cell_type": "code",
   "execution_count": 38,
   "id": "4fa12dd7-c0b3-4ff4-8eaa-b2c75cd15c26",
   "metadata": {},
   "outputs": [
    {
     "data": {
      "text/plain": [
       "((60000, 28, 28), (10000, 28, 28))"
      ]
     },
     "execution_count": 38,
     "metadata": {},
     "output_type": "execute_result"
    }
   ],
   "source": [
    "X_train.shape, X_test.shape"
   ]
  },
  {
   "cell_type": "code",
   "execution_count": 39,
   "id": "041e7344-5d31-4486-bd9e-c55b14d27bba",
   "metadata": {},
   "outputs": [],
   "source": [
    "X_train = np.expand_dims(X_train, -1)\n",
    "X_test = np.expand_dims(X_test, -1)"
   ]
  },
  {
   "cell_type": "code",
   "execution_count": 40,
   "id": "ae3cf0a7-4d6e-4de9-a899-46845e1f3436",
   "metadata": {},
   "outputs": [],
   "source": [
    "Y_train = keras.utils.to_categorical(Y_train, num_classes)\n",
    "Y_test = keras.utils.to_categorical(Y_test, num_classes)"
   ]
  },
  {
   "cell_type": "code",
   "execution_count": 41,
   "id": "7aece046-4bb0-4b17-b5c4-79d73a719ea7",
   "metadata": {},
   "outputs": [],
   "source": [
    "modelo = keras.Sequential(\n",
    "    [\n",
    "        keras.Input(shape = input_shape),\n",
    "        layers.Conv2D(32, kernel_size = (3,3), activation = 'relu'),\n",
    "        layers.MaxPooling2D(pool_size = (2,2)),\n",
    "        layers.Conv2D(64, kernel_size = (3,3), activation = 'relu'),\n",
    "        layers.MaxPooling2D(pool_size = (2,2)),\n",
    "        layers.Flatten(),\n",
    "        # softmax função probabilistica \n",
    "        layers.Dense(num_classes,activation = 'softmax')\n",
    "    ]\n",
    ")"
   ]
  },
  {
   "cell_type": "code",
   "execution_count": 42,
   "id": "87731991-cd48-4a3a-be88-839176ae4742",
   "metadata": {},
   "outputs": [],
   "source": [
    "batch_size = 100\n",
    "epochs = 20"
   ]
  },
  {
   "cell_type": "code",
   "execution_count": 43,
   "id": "0b243c31-ebc6-4257-8868-3cbe7730bc00",
   "metadata": {},
   "outputs": [],
   "source": [
    "modelo.compile(\n",
    "    loss = 'categorical_crossentropy', optimizer = 'adam',\n",
    "    metrics = ['accuracy']\n",
    ")"
   ]
  },
  {
   "cell_type": "code",
   "execution_count": null,
   "id": "3544a2e0-21f3-4144-af09-69df523d6b3d",
   "metadata": {},
   "outputs": [
    {
     "name": "stdout",
     "output_type": "stream",
     "text": [
      "Epoch 1/20\n",
      "540/540 [==============================] - 41s 74ms/step - loss: 0.2634 - accuracy: 0.9260 - val_loss: 0.0825 - val_accuracy: 0.9777\n",
      "Epoch 2/20\n",
      "540/540 [==============================] - 38s 71ms/step - loss: 0.0703 - accuracy: 0.9784 - val_loss: 0.0625 - val_accuracy: 0.9827\n",
      "Epoch 3/20\n",
      "540/540 [==============================] - 37s 68ms/step - loss: 0.0512 - accuracy: 0.9842 - val_loss: 0.0445 - val_accuracy: 0.9873\n",
      "Epoch 4/20\n",
      "540/540 [==============================] - 36s 66ms/step - loss: 0.0419 - accuracy: 0.9873 - val_loss: 0.0414 - val_accuracy: 0.9880\n",
      "Epoch 5/20\n",
      "540/540 [==============================] - 36s 67ms/step - loss: 0.0369 - accuracy: 0.9884 - val_loss: 0.0442 - val_accuracy: 0.9875\n",
      "Epoch 6/20\n",
      "540/540 [==============================] - 37s 69ms/step - loss: 0.0311 - accuracy: 0.9904 - val_loss: 0.0469 - val_accuracy: 0.9878\n",
      "Epoch 7/20\n",
      "540/540 [==============================] - 37s 68ms/step - loss: 0.0267 - accuracy: 0.9916 - val_loss: 0.0446 - val_accuracy: 0.9883\n",
      "Epoch 8/20\n",
      "540/540 [==============================] - 39s 72ms/step - loss: 0.0228 - accuracy: 0.9931 - val_loss: 0.0382 - val_accuracy: 0.9897\n",
      "Epoch 9/20\n",
      "540/540 [==============================] - 37s 69ms/step - loss: 0.0199 - accuracy: 0.9934 - val_loss: 0.0397 - val_accuracy: 0.9893\n",
      "Epoch 10/20\n",
      "540/540 [==============================] - 38s 71ms/step - loss: 0.0173 - accuracy: 0.9944 - val_loss: 0.0419 - val_accuracy: 0.9897\n",
      "Epoch 11/20\n",
      "540/540 [==============================] - 38s 70ms/step - loss: 0.0150 - accuracy: 0.9955 - val_loss: 0.0384 - val_accuracy: 0.9903\n",
      "Epoch 12/20\n",
      "540/540 [==============================] - 38s 71ms/step - loss: 0.0121 - accuracy: 0.9963 - val_loss: 0.0401 - val_accuracy: 0.9897\n",
      "Epoch 13/20\n",
      "540/540 [==============================] - 38s 71ms/step - loss: 0.0113 - accuracy: 0.9962 - val_loss: 0.0379 - val_accuracy: 0.9907\n",
      "Epoch 14/20\n",
      "540/540 [==============================] - 33s 62ms/step - loss: 0.0091 - accuracy: 0.9969 - val_loss: 0.0404 - val_accuracy: 0.9913\n",
      "Epoch 15/20\n",
      "540/540 [==============================] - 38s 70ms/step - loss: 0.0076 - accuracy: 0.9976 - val_loss: 0.0497 - val_accuracy: 0.9895\n",
      "Epoch 16/20\n",
      "540/540 [==============================] - 38s 71ms/step - loss: 0.0062 - accuracy: 0.9980 - val_loss: 0.0572 - val_accuracy: 0.9883\n",
      "Epoch 17/20\n",
      "540/540 [==============================] - 37s 69ms/step - loss: 0.0072 - accuracy: 0.9975 - val_loss: 0.0506 - val_accuracy: 0.9897\n",
      "Epoch 18/20\n",
      "540/540 [==============================] - 38s 70ms/step - loss: 0.0059 - accuracy: 0.9979 - val_loss: 0.0449 - val_accuracy: 0.9910\n",
      "Epoch 19/20\n",
      "460/540 [========================>.....] - ETA: 5s - loss: 0.0036 - accuracy: 0.9990"
     ]
    }
   ],
   "source": [
    "training_history = modelo.fit(X_train,\n",
    "                              Y_train, \n",
    "                              batch_size = batch_size, \n",
    "                              epochs= epochs, \n",
    "                              validation_split= 0.1, \n",
    "                              callbacks = [tensorboard_callback]\n",
    "                             )"
   ]
  },
  {
   "cell_type": "code",
   "execution_count": null,
   "id": "0a44e194-1817-4979-be72-f9d5244581e8",
   "metadata": {},
   "outputs": [],
   "source": [
    "modelo.save('mnist_20_epochs.keras')"
   ]
  }
 ],
 "metadata": {
  "kernelspec": {
   "display_name": "Python 3 (ipykernel)",
   "language": "python",
   "name": "python3"
  },
  "language_info": {
   "codemirror_mode": {
    "name": "ipython",
    "version": 3
   },
   "file_extension": ".py",
   "mimetype": "text/x-python",
   "name": "python",
   "nbconvert_exporter": "python",
   "pygments_lexer": "ipython3",
   "version": "3.10.15"
  }
 },
 "nbformat": 4,
 "nbformat_minor": 5
}
